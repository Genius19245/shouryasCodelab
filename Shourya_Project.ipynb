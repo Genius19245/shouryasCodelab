{
  "nbformat": 4,
  "nbformat_minor": 0,
  "metadata": {
    "colab": {
      "provenance": [],
      "authorship_tag": "ABX9TyP3li1PU5XFS+62yHGPWYDe",
      "include_colab_link": true
    },
    "kernelspec": {
      "name": "python3",
      "display_name": "Python 3"
    },
    "language_info": {
      "name": "python"
    }
  },
  "cells": [
    {
      "cell_type": "markdown",
      "metadata": {
        "id": "view-in-github",
        "colab_type": "text"
      },
      "source": [
        "<a href=\"https://colab.research.google.com/github/Genius19245/shouryasCodelab/blob/main/Shourya_Project.ipynb\" target=\"_parent\"><img src=\"https://colab.research.google.com/assets/colab-badge.svg\" alt=\"Open In Colab\"/></a>"
      ]
    },
    {
      "cell_type": "code",
      "source": [
        "pip install Faker"
      ],
      "metadata": {
        "id": "qzYM3IUvyZIq",
        "outputId": "52b7431d-4db7-4777-e740-ef0fe3530d19",
        "colab": {
          "base_uri": "https://localhost:8080/"
        }
      },
      "execution_count": 17,
      "outputs": [
        {
          "output_type": "stream",
          "name": "stdout",
          "text": [
            "Requirement already satisfied: Faker in /usr/local/lib/python3.10/dist-packages (23.2.1)\n",
            "Requirement already satisfied: python-dateutil>=2.4 in /usr/local/lib/python3.10/dist-packages (from Faker) (2.8.2)\n",
            "Requirement already satisfied: six>=1.5 in /usr/local/lib/python3.10/dist-packages (from python-dateutil>=2.4->Faker) (1.16.0)\n"
          ]
        }
      ]
    },
    {
      "cell_type": "code",
      "source": [
        "from faker import Faker\n",
        "fake = Faker('en_IN')"
      ],
      "metadata": {
        "id": "V0su3QbPwFTh"
      },
      "execution_count": 28,
      "outputs": []
    },
    {
      "cell_type": "code",
      "source": [
        "print(fake.name_male())"
      ],
      "metadata": {
        "id": "r_5v8s8Dy6KA",
        "outputId": "42cbd5b3-2099-4417-c0ce-1c19af487a2d",
        "colab": {
          "base_uri": "https://localhost:8080/"
        }
      },
      "execution_count": 33,
      "outputs": [
        {
          "output_type": "stream",
          "name": "stdout",
          "text": [
            "Prisha Seshadri\n"
          ]
        }
      ]
    },
    {
      "cell_type": "code",
      "source": [
        "namesarenotdone = True\n",
        "i = 0\n",
        "for i in range(1, 11):\n",
        "  # print(i)\n",
        "  print(fake.name_male())"
      ],
      "metadata": {
        "id": "fSAJA0XnzAVG",
        "colab": {
          "base_uri": "https://localhost:8080/"
        },
        "outputId": "fa21cc75-050e-4463-fe4d-a1b3af8a0a76"
      },
      "execution_count": 37,
      "outputs": [
        {
          "output_type": "stream",
          "name": "stdout",
          "text": [
            "Prisha Goswami\n",
            "Nirvaan Baral\n",
            "Vihaan Bandi\n",
            "Jayesh Bhatt\n",
            "Diya Ram\n",
            "Kaira Vig\n",
            "Kaira Kibe\n",
            "Zain Choudhry\n",
            "Prisha Johal\n",
            "Yuvraj  Dugar\n"
          ]
        }
      ]
    },
    {
      "cell_type": "code",
      "source": [
        "print(f'This is Latitude: {fake.latitude()}. This is Longitude: {fake.longitude()}')"
      ],
      "metadata": {
        "colab": {
          "base_uri": "https://localhost:8080/"
        },
        "id": "miyEYs_k0r8N",
        "outputId": "debacbe2-0695-47ba-b450-ec7e99257ea0"
      },
      "execution_count": 39,
      "outputs": [
        {
          "output_type": "stream",
          "name": "stdout",
          "text": [
            "This is Latitude: 34.2683325 This is Longitude: 115.709467\n"
          ]
        }
      ]
    }
  ]
}