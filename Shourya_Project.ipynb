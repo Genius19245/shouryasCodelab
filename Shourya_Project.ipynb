{
  "nbformat": 4,
  "nbformat_minor": 0,
  "metadata": {
    "colab": {
      "provenance": [],
      "authorship_tag": "ABX9TyNI6+y6zewvcX6ejLfnVc3Q",
      "include_colab_link": true
    },
    "kernelspec": {
      "name": "python3",
      "display_name": "Python 3"
    },
    "language_info": {
      "name": "python"
    }
  },
  "cells": [
    {
      "cell_type": "markdown",
      "metadata": {
        "id": "view-in-github",
        "colab_type": "text"
      },
      "source": [
        "<a href=\"https://colab.research.google.com/github/Genius19245/shouryasCodelab/blob/main/Shourya_Project.ipynb\" target=\"_parent\"><img src=\"https://colab.research.google.com/assets/colab-badge.svg\" alt=\"Open In Colab\"/></a>"
      ]
    },
    {
      "cell_type": "code",
      "source": [
        "pip install Faker"
      ],
      "metadata": {
        "id": "qzYM3IUvyZIq",
        "outputId": "e3968fe2-8287-4a9b-d7c4-a090a76585b9",
        "colab": {
          "base_uri": "https://localhost:8080/"
        }
      },
      "execution_count": 1,
      "outputs": [
        {
          "output_type": "stream",
          "name": "stdout",
          "text": [
            "Collecting Faker\n",
            "  Downloading Faker-25.0.0-py3-none-any.whl (1.8 MB)\n",
            "\u001b[2K     \u001b[90m━━━━━━━━━━━━━━━━━━━━━━━━━━━━━━━━━━━━━━━━\u001b[0m \u001b[32m1.8/1.8 MB\u001b[0m \u001b[31m7.4 MB/s\u001b[0m eta \u001b[36m0:00:00\u001b[0m\n",
            "\u001b[?25hRequirement already satisfied: python-dateutil>=2.4 in /usr/local/lib/python3.10/dist-packages (from Faker) (2.8.2)\n",
            "Requirement already satisfied: six>=1.5 in /usr/local/lib/python3.10/dist-packages (from python-dateutil>=2.4->Faker) (1.16.0)\n",
            "Installing collected packages: Faker\n",
            "Successfully installed Faker-25.0.0\n"
          ]
        }
      ]
    },
    {
      "cell_type": "code",
      "source": [],
      "metadata": {
        "id": "eR9lRx-j6ZwQ"
      },
      "execution_count": 1,
      "outputs": []
    },
    {
      "cell_type": "code",
      "source": [
        "from faker import Faker\n",
        "fake = Faker('en_IN')"
      ],
      "metadata": {
        "id": "V0su3QbPwFTh"
      },
      "execution_count": 2,
      "outputs": []
    },
    {
      "cell_type": "code",
      "source": [
        "print(fake.name_male())"
      ],
      "metadata": {
        "id": "r_5v8s8Dy6KA",
        "outputId": "abd8004c-3753-4dbc-f955-1559484d56a1",
        "colab": {
          "base_uri": "https://localhost:8080/"
        }
      },
      "execution_count": 3,
      "outputs": [
        {
          "output_type": "stream",
          "name": "stdout",
          "text": [
            "Vivaan Ramesh\n"
          ]
        }
      ]
    },
    {
      "cell_type": "code",
      "source": [
        "namesarenotdone = True\n",
        "i = 0\n",
        "for i in range(1, 11):\n",
        "  # print(i)\n",
        "  print(fake.name_male())"
      ],
      "metadata": {
        "id": "fSAJA0XnzAVG",
        "colab": {
          "base_uri": "https://localhost:8080/"
        },
        "outputId": "068f7153-0ff4-4fec-efab-14a3ad8cb04e"
      },
      "execution_count": 4,
      "outputs": [
        {
          "output_type": "stream",
          "name": "stdout",
          "text": [
            "Bhamini Devan\n",
            "Seher Dubey\n",
            "Urvi Sarna\n",
            "Azad Tella\n",
            "Armaan Dara\n",
            "Ehsaan Sankaran\n",
            "Emir Khatri\n",
            "Neysa Kohli\n",
            "Manjari Dora\n",
            "Pihu Kata\n"
          ]
        }
      ]
    },
    {
      "cell_type": "code",
      "source": [
        "print(f'This is Latitude: {fake.latitude()}. This is Longitude: {fake.longitude()}')"
      ],
      "metadata": {
        "colab": {
          "base_uri": "https://localhost:8080/"
        },
        "id": "miyEYs_k0r8N",
        "outputId": "1d5b75ba-f8b3-4b05-8289-73b84cc7a976"
      },
      "execution_count": 5,
      "outputs": [
        {
          "output_type": "stream",
          "name": "stdout",
          "text": [
            "This is Latitude: -62.8143225. This is Longitude: -70.216337\n"
          ]
        }
      ]
    },
    {
      "cell_type": "code",
      "source": [
        "def generate(country, numb):\n",
        "  i = 0\n",
        "  for i in range(1,numb):\n",
        "    print(country.address())"
      ],
      "metadata": {
        "id": "HHxTG2Nn6dCo"
      },
      "execution_count": 14,
      "outputs": []
    },
    {
      "cell_type": "code",
      "source": [
        "generate(fake, 6)"
      ],
      "metadata": {
        "id": "4DcbZpNm7X86",
        "outputId": "61b5bf98-5896-4e4d-fac3-b2d8f23842ac",
        "colab": {
          "base_uri": "https://localhost:8080/"
        }
      },
      "execution_count": 17,
      "outputs": [
        {
          "output_type": "stream",
          "name": "stdout",
          "text": [
            "H.No. 221\n",
            "Bumb Marg, Kakinada 469079\n",
            "H.No. 615\n",
            "Bava Ganj\n",
            "Nashik-242912\n",
            "H.No. 30, Chokshi Road\n",
            "Tirupati-773532\n",
            "H.No. 37\n",
            "Singhal Chowk, Ajmer-116092\n",
            "28/18\n",
            "Kapur Path, Tiruppur-005282\n"
          ]
        }
      ]
    },
    {
      "cell_type": "code",
      "source": [
        "INDIA = Faker('en_IN')\n",
        "UK = Faker('en_GB')\n",
        "USA = Faker('en_US')\n",
        "SPAIN = Faker('es_ES')\n",
        "BELGIUM = Faker('fr_BE')"
      ],
      "metadata": {
        "id": "R_cFHsQj8Gzj"
      },
      "execution_count": 18,
      "outputs": []
    },
    {
      "cell_type": "code",
      "source": [
        "countrieslist = [INDIA, UK, USA, SPAIN, BELGIUM]"
      ],
      "metadata": {
        "id": "LAx8ZgDT9iNv"
      },
      "execution_count": 19,
      "outputs": []
    },
    {
      "cell_type": "code",
      "source": [
        "x = 0\n",
        "addressNumber = int(input('How mmany fake address would you like?'))\n",
        "for x in countrieslist:\n",
        "  generate(x, addressNumber)"
      ],
      "metadata": {
        "id": "dTTh5TeI9xQw",
        "outputId": "84872c14-3f6b-43f7-9d22-afcb14bd08e1",
        "colab": {
          "base_uri": "https://localhost:8080/"
        }
      },
      "execution_count": 23,
      "outputs": [
        {
          "output_type": "stream",
          "name": "stdout",
          "text": [
            "How mmany fake address would you like?4\n",
            "H.No. 748\n",
            "Wali Path, Nagercoil 927119\n",
            "285\n",
            "Kuruvilla Chowk\n",
            "Muzaffarpur-890566\n",
            "34/436, Chaudhari Zila, Guntur 777099\n",
            "Studio 0\n",
            "Maria locks\n",
            "South Jamesfort\n",
            "PA7 8TW\n",
            "60 Pauline shoal\n",
            "Port Margaretmouth\n",
            "BT6H 6WX\n",
            "643 Claire junctions\n",
            "New Katie\n",
            "B0 9EG\n",
            "016 Phillips Corner\n",
            "Port Johnchester, AL 98282\n",
            "94711 Mclean Hollow\n",
            "Rebeccaborough, ND 60065\n",
            "0973 Mitchell Mountain Suite 019\n",
            "West Thomasburgh, RI 26540\n",
            "Pasaje de Nerea Navarro 82 Puerta 7 \n",
            "Girona, 13078\n",
            "Avenida Guillermo Botella 60 Piso 5 \n",
            "Madrid, 14674\n",
            "Plaza de Lupita Puga 78\n",
            "Toledo, 27745\n",
            "15173 Mathieu Lane\n",
            "Janssenston, PW 86220\n",
            "006 Godefroid Way Apt. 026\n",
            "North Ali, GA 77395\n",
            "572 Leloup Centers\n",
            "Michelville, FM 09421\n"
          ]
        }
      ]
    }
  ]
}